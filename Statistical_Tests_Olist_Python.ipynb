{
  "cells": [
    {
      "cell_type": "markdown",
      "metadata": {
        "id": "Vx6Q1DDQPAHw"
      },
      "source": [
        "The goals of this project are:\n",
        "- to explore the Brazilian E-Commerce Public Dataset by Olist\n",
        "- conduct the basic statistical analysis and hypothesis testing to get the insights from the data"
      ]
    },
    {
      "cell_type": "markdown",
      "metadata": {
        "id": "Szs-SBI_wmqh"
      },
      "source": [
        "# Set up"
      ]
    },
    {
      "cell_type": "markdown",
      "metadata": {
        "id": "eGr_19ic6KqS"
      },
      "source": [
        "## Import"
      ]
    },
    {
      "cell_type": "code",
      "execution_count": 1,
      "metadata": {
        "id": "LMiJhHe0r3if"
      },
      "outputs": [],
      "source": [
        "import pandas as pd\n",
        "import plotly.express as px\n",
        "import matplotlib.pyplot as plt\n",
        "import seaborn as sns\n",
        "import scipy.stats as stats\n",
        "import numpy as np"
      ]
    },
    {
      "cell_type": "code",
      "execution_count": 2,
      "metadata": {
        "id": "Na-VrV2lAldR"
      },
      "outputs": [],
      "source": [
        "url_data_sellers = 'https://drive.google.com/uc?id=1l8D7IXm_PNanHxZd5o-TMXUfFjMjmjTt'\n",
        "url_data_products = 'https://drive.google.com/uc?id=1nQbxCtBbBT62pZvVaQer4zls13Da75_y'\n",
        "url_data_orders_status = 'https://drive.google.com/uc?id=1GMU0DZJqMCWmNVTsvpyC4z9pkyDK4G2Y'\n",
        "url_data_reviews = 'https://drive.google.com/uc?id=1_xpF2H_aTXaPRnuh7EwjSZHZd56Pf0pU'\n",
        "url_data_payments = 'https://drive.google.com/uc?id=1PyI6ltW5YXMtdD_rGG47S0DzxQ66B-IC'\n",
        "url_data_orders_items = 'https://drive.google.com/uc?id=1R6ekFeO6fIcCYCyKCbs6sU0_h9yoQwlX'\n",
        "url_data_customers = 'https://drive.google.com/uc?id=1ljrSWim_59WVkS43HVWHSrMO66zAgpAB'"
      ]
    },
    {
      "cell_type": "code",
      "execution_count": 3,
      "metadata": {
        "id": "TFTx2AvjKl0f"
      },
      "outputs": [],
      "source": [
        "#Dimension tables\n",
        "df_sellers = pd.read_csv(url_data_sellers)\n",
        "df_products = pd.read_csv(url_data_products)\n",
        "df_customers = pd.read_csv(url_data_customers)\n",
        "\n",
        "#Metrics table\n",
        "df_orders_status = pd.read_csv(url_data_orders_status)\n",
        "df_orders_items = pd.read_csv(url_data_orders_items)\n",
        "df_payments = pd.read_csv(url_data_payments)\n",
        "df_reviews = pd.read_csv(url_data_reviews)"
      ]
    },
    {
      "cell_type": "markdown",
      "metadata": {
        "id": "007Q_dnu6Heq"
      },
      "source": [
        "## Data Preparation\n"
      ]
    },
    {
      "cell_type": "markdown",
      "metadata": {
        "id": "0MI1aoQWqYey"
      },
      "source": [
        "Check the shapes of all tables"
      ]
    },
    {
      "cell_type": "code",
      "execution_count": 4,
      "metadata": {
        "colab": {
          "base_uri": "https://localhost:8080/"
        },
        "id": "6nQovQRNIViB",
        "outputId": "b3e83458-639a-477c-f01f-b39c465fb9dd"
      },
      "outputs": [
        {
          "name": "stdout",
          "output_type": "stream",
          "text": [
            "df_sellers (3095, 4)\n",
            "df_products (32951, 9)\n",
            "df_customers (99441, 5)\n",
            "df_orders_status (99441, 8)\n",
            "df_orders_items (112650, 7)\n",
            "df_payments (103886, 5)\n",
            "df_reviews (99224, 7)\n"
          ]
        }
      ],
      "source": [
        "print(f'df_sellers {df_sellers.shape}')\n",
        "print(f'df_products {df_products.shape}')\n",
        "print(f'df_customers {df_customers.shape}')\n",
        "print(f'df_orders_status {df_orders_status.shape}')\n",
        "print(f'df_orders_items {df_orders_items.shape}')\n",
        "print(f'df_payments {df_payments.shape}')\n",
        "print(f'df_reviews {df_reviews.shape}')"
      ]
    },
    {
      "cell_type": "markdown",
      "metadata": {
        "id": "4waTgWqMqdd9"
      },
      "source": [
        "Analyze each table to gain insights and clean the data."
      ]
    },
    {
      "cell_type": "markdown",
      "metadata": {
        "id": "P3iXCMEwt4gC"
      },
      "source": [
        "### df_sellers"
      ]
    },
    {
      "cell_type": "code",
      "execution_count": 5,
      "metadata": {
        "colab": {
          "base_uri": "https://localhost:8080/"
        },
        "id": "28V-28B_uH8f",
        "outputId": "02eb617e-2883-496b-d069-e2f713a4fa09"
      },
      "outputs": [
        {
          "name": "stdout",
          "output_type": "stream",
          "text": [
            "<class 'pandas.core.frame.DataFrame'>\n",
            "RangeIndex: 3095 entries, 0 to 3094\n",
            "Data columns (total 4 columns):\n",
            " #   Column                  Non-Null Count  Dtype \n",
            "---  ------                  --------------  ----- \n",
            " 0   seller_id               3095 non-null   object\n",
            " 1   seller_zip_code_prefix  3095 non-null   int64 \n",
            " 2   seller_city             3095 non-null   object\n",
            " 3   seller_state            3095 non-null   object\n",
            "dtypes: int64(1), object(3)\n",
            "memory usage: 96.8+ KB\n"
          ]
        }
      ],
      "source": [
        "# Check the data structure\n",
        "df_sellers.info()"
      ]
    },
    {
      "cell_type": "code",
      "execution_count": 6,
      "metadata": {
        "colab": {
          "base_uri": "https://localhost:8080/"
        },
        "id": "KkBRXB-murvd",
        "outputId": "bac4899d-1595-404c-da2b-fd6c0a6f36c3"
      },
      "outputs": [
        {
          "data": {
            "text/plain": [
              "True"
            ]
          },
          "execution_count": 6,
          "metadata": {},
          "output_type": "execute_result"
        }
      ],
      "source": [
        "# Test the primary key\n",
        "df_sellers[\"seller_id\"].nunique() == len(df_sellers)"
      ]
    },
    {
      "cell_type": "code",
      "execution_count": 7,
      "metadata": {
        "colab": {
          "base_uri": "https://localhost:8080/"
        },
        "id": "sNQfNT58vQsl",
        "outputId": "4cadaf80-4086-4ce4-b0b0-7bab6df99238"
      },
      "outputs": [
        {
          "name": "stdout",
          "output_type": "stream",
          "text": [
            "Number of unique sellers: 3095\n"
          ]
        }
      ],
      "source": [
        "# Display the number of unique sellers\n",
        "print(f'Number of unique sellers: {df_sellers[\"seller_id\"].nunique()}')"
      ]
    },
    {
      "cell_type": "code",
      "execution_count": 8,
      "metadata": {
        "colab": {
          "base_uri": "https://localhost:8080/"
        },
        "id": "8SxIEhC630Cq",
        "outputId": "d8c92c1e-fcb0-4a63-c676-c6fb63686a23"
      },
      "outputs": [
        {
          "data": {
            "text/plain": [
              "seller_state\n",
              "SP    1849\n",
              "PR     349\n",
              "MG     244\n",
              "SC     190\n",
              "RJ     171\n",
              "RS     129\n",
              "GO      40\n",
              "DF      30\n",
              "ES      23\n",
              "BA      19\n",
              "CE      13\n",
              "PE       9\n",
              "PB       6\n",
              "MS       5\n",
              "RN       5\n",
              "MT       4\n",
              "RO       2\n",
              "SE       2\n",
              "AC       1\n",
              "PI       1\n",
              "AM       1\n",
              "MA       1\n",
              "PA       1\n",
              "Name: seller_id, dtype: int64"
            ]
          },
          "execution_count": 8,
          "metadata": {},
          "output_type": "execute_result"
        }
      ],
      "source": [
        "# Check which state has the highest nb of sellers\n",
        "df_sellers.groupby('seller_state')['seller_id'].nunique().sort_values(ascending = False)"
      ]
    },
    {
      "cell_type": "code",
      "execution_count": 9,
      "metadata": {
        "id": "XqXih8Nj9RHr"
      },
      "outputs": [],
      "source": [
        "# Keep only relevant columns\n",
        "df_sellers = df_sellers[[\"seller_id\",\"seller_state\"]]"
      ]
    },
    {
      "cell_type": "markdown",
      "metadata": {
        "id": "PCoM-IPX6-Aj"
      },
      "source": [
        "### df_products"
      ]
    },
    {
      "cell_type": "code",
      "execution_count": 10,
      "metadata": {
        "colab": {
          "base_uri": "https://localhost:8080/"
        },
        "id": "2Lm3EFZKvKCM",
        "outputId": "3bdfb069-a08c-491f-ed15-89c196c1da3d"
      },
      "outputs": [
        {
          "data": {
            "text/plain": [
              "product_id                    0.000000\n",
              "product_category_name         1.851234\n",
              "product_name_lenght           1.851234\n",
              "product_description_lenght    1.851234\n",
              "product_photos_qty            1.851234\n",
              "product_weight_g              0.006070\n",
              "product_length_cm             0.006070\n",
              "product_height_cm             0.006070\n",
              "product_width_cm              0.006070\n",
              "dtype: float64"
            ]
          },
          "execution_count": 10,
          "metadata": {},
          "output_type": "execute_result"
        }
      ],
      "source": [
        "# check the percentage of missing values\n",
        "df_products.isnull().sum()/len(df_products)*100"
      ]
    },
    {
      "cell_type": "code",
      "execution_count": 11,
      "metadata": {
        "colab": {
          "base_uri": "https://localhost:8080/"
        },
        "id": "I2vnYO4mwWPv",
        "outputId": "f6a07b74-f482-4ca7-9717-8993ece888df"
      },
      "outputs": [
        {
          "data": {
            "text/plain": [
              "product_id                     object\n",
              "product_category_name          object\n",
              "product_name_lenght           float64\n",
              "product_description_lenght    float64\n",
              "product_photos_qty            float64\n",
              "product_weight_g              float64\n",
              "product_length_cm             float64\n",
              "product_height_cm             float64\n",
              "product_width_cm              float64\n",
              "dtype: object"
            ]
          },
          "execution_count": 11,
          "metadata": {},
          "output_type": "execute_result"
        }
      ],
      "source": [
        "df_products.dtypes"
      ]
    },
    {
      "cell_type": "code",
      "execution_count": 12,
      "metadata": {
        "id": "lARr_FSp7dnO"
      },
      "outputs": [],
      "source": [
        "# Keep only relevant columns\n",
        "df_products = df_products[[\"product_id\",\"product_category_name\"]]"
      ]
    },
    {
      "cell_type": "code",
      "execution_count": 13,
      "metadata": {
        "colab": {
          "base_uri": "https://localhost:8080/"
        },
        "id": "9cjaStbX_mSW",
        "outputId": "b817230f-8414-4362-82ae-eaf76955dfdb"
      },
      "outputs": [
        {
          "data": {
            "text/plain": [
              "True"
            ]
          },
          "execution_count": 13,
          "metadata": {},
          "output_type": "execute_result"
        }
      ],
      "source": [
        "# Test primary key\n",
        "df_products[\"product_id\"].nunique() == len(df_products)"
      ]
    },
    {
      "cell_type": "code",
      "execution_count": 14,
      "metadata": {
        "colab": {
          "base_uri": "https://localhost:8080/"
        },
        "id": "JF2xPggAzLq7",
        "outputId": "20e31329-3a6d-4e35-cc5f-9af3adc64032"
      },
      "outputs": [
        {
          "data": {
            "text/plain": [
              "product_category_name\n",
              "cama_mesa_banho           3029\n",
              "esporte_lazer             2867\n",
              "moveis_decoracao          2657\n",
              "beleza_saude              2444\n",
              "utilidades_domesticas     2335\n",
              "automotivo                1900\n",
              "informatica_acessorios    1639\n",
              "brinquedos                1411\n",
              "relogios_presentes        1329\n",
              "telefonia                 1134\n",
              "Name: count, dtype: int64"
            ]
          },
          "execution_count": 14,
          "metadata": {},
          "output_type": "execute_result"
        }
      ],
      "source": [
        "# Top 10 products\n",
        "df_products[\"product_category_name\"].value_counts().sort_values(ascending=False).head(10)"
      ]
    },
    {
      "cell_type": "code",
      "execution_count": 15,
      "metadata": {
        "id": "7PwzRIOa-cXB"
      },
      "outputs": [],
      "source": [
        "# Replace null values in 'category' with 'other'\n",
        "df_products[\"product_category_name\"] = df_products[\"product_category_name\"].fillna(\"other\")"
      ]
    },
    {
      "cell_type": "code",
      "execution_count": 16,
      "metadata": {
        "colab": {
          "base_uri": "https://localhost:8080/"
        },
        "id": "Gv3FXLun8dbt",
        "outputId": "9e072cdb-f09a-4d74-a039-5b0366f765bf"
      },
      "outputs": [
        {
          "name": "stdout",
          "output_type": "stream",
          "text": [
            "<class 'pandas.core.frame.DataFrame'>\n",
            "RangeIndex: 32951 entries, 0 to 32950\n",
            "Data columns (total 2 columns):\n",
            " #   Column                 Non-Null Count  Dtype \n",
            "---  ------                 --------------  ----- \n",
            " 0   product_id             32951 non-null  object\n",
            " 1   product_category_name  32951 non-null  object\n",
            "dtypes: object(2)\n",
            "memory usage: 515.0+ KB\n"
          ]
        }
      ],
      "source": [
        "# Check the data structure after the cleaning\n",
        "df_products.info()"
      ]
    },
    {
      "cell_type": "code",
      "execution_count": 17,
      "metadata": {
        "colab": {
          "base_uri": "https://localhost:8080/"
        },
        "id": "f8J8GdAE864t",
        "outputId": "be1949db-fc77-4674-9ddd-b2326fbe7ccd"
      },
      "outputs": [
        {
          "data": {
            "text/plain": [
              "array(['perfumaria', 'artes', 'esporte_lazer', 'bebes',\n",
              "       'utilidades_domesticas', 'instrumentos_musicais', 'cool_stuff',\n",
              "       'moveis_decoracao', 'eletrodomesticos', 'brinquedos',\n",
              "       'cama_mesa_banho', 'construcao_ferramentas_seguranca',\n",
              "       'informatica_acessorios', 'beleza_saude', 'malas_acessorios',\n",
              "       'ferramentas_jardim', 'moveis_escritorio', 'automotivo',\n",
              "       'eletronicos', 'fashion_calcados', 'telefonia', 'papelaria',\n",
              "       'fashion_bolsas_e_acessorios', 'pcs', 'casa_construcao',\n",
              "       'relogios_presentes', 'construcao_ferramentas_construcao',\n",
              "       'pet_shop', 'eletroportateis', 'agro_industria_e_comercio',\n",
              "       'other', 'moveis_sala', 'sinalizacao_e_seguranca', 'climatizacao',\n",
              "       'consoles_games', 'livros_interesse_geral',\n",
              "       'construcao_ferramentas_ferramentas',\n",
              "       'fashion_underwear_e_moda_praia', 'fashion_roupa_masculina',\n",
              "       'moveis_cozinha_area_de_servico_jantar_e_jardim',\n",
              "       'industria_comercio_e_negocios', 'telefonia_fixa',\n",
              "       'construcao_ferramentas_iluminacao', 'livros_tecnicos',\n",
              "       'eletrodomesticos_2', 'artigos_de_festas', 'bebidas',\n",
              "       'market_place', 'la_cuisine', 'construcao_ferramentas_jardim',\n",
              "       'fashion_roupa_feminina', 'casa_conforto', 'audio',\n",
              "       'alimentos_bebidas', 'musica', 'alimentos',\n",
              "       'tablets_impressao_imagem', 'livros_importados',\n",
              "       'portateis_casa_forno_e_cafe', 'fashion_esporte',\n",
              "       'artigos_de_natal', 'fashion_roupa_infanto_juvenil',\n",
              "       'dvds_blu_ray', 'artes_e_artesanato', 'pc_gamer', 'moveis_quarto',\n",
              "       'cine_foto', 'fraldas_higiene', 'flores', 'casa_conforto_2',\n",
              "       'portateis_cozinha_e_preparadores_de_alimentos',\n",
              "       'seguros_e_servicos', 'moveis_colchao_e_estofado',\n",
              "       'cds_dvds_musicais'], dtype=object)"
            ]
          },
          "execution_count": 17,
          "metadata": {},
          "output_type": "execute_result"
        }
      ],
      "source": [
        "# What are the product category\n",
        "df_products[\"product_category_name\"].unique()"
      ]
    },
    {
      "cell_type": "markdown",
      "metadata": {
        "id": "VdSqY-8dAyEV"
      },
      "source": [
        "### df_customers"
      ]
    },
    {
      "cell_type": "code",
      "execution_count": 18,
      "metadata": {
        "colab": {
          "base_uri": "https://localhost:8080/"
        },
        "id": "PB8iVQcU0Zl2",
        "outputId": "8c4a2d51-7ec4-4dc8-bef3-5cabfbea3f3f"
      },
      "outputs": [
        {
          "data": {
            "text/plain": [
              "Index(['customer_id', 'customer_unique_id', 'customer_zip_code_prefix',\n",
              "       'customer_city', 'customer_state'],\n",
              "      dtype='object')"
            ]
          },
          "execution_count": 18,
          "metadata": {},
          "output_type": "execute_result"
        }
      ],
      "source": [
        "df_customers.columns"
      ]
    },
    {
      "cell_type": "code",
      "execution_count": 19,
      "metadata": {
        "id": "eIyiTO6x0uym"
      },
      "outputs": [],
      "source": [
        "customers_features = ['customer_id', 'customer_unique_id',\n",
        "       'customer_city', 'customer_state']"
      ]
    },
    {
      "cell_type": "code",
      "execution_count": 20,
      "metadata": {
        "colab": {
          "base_uri": "https://localhost:8080/"
        },
        "id": "dZL38YkWA62-",
        "outputId": "9e31ff7b-ef42-46cc-cdc8-bb600417f6a0"
      },
      "outputs": [
        {
          "name": "stdout",
          "output_type": "stream",
          "text": [
            "<class 'pandas.core.frame.DataFrame'>\n",
            "RangeIndex: 99441 entries, 0 to 99440\n",
            "Data columns (total 5 columns):\n",
            " #   Column                    Non-Null Count  Dtype \n",
            "---  ------                    --------------  ----- \n",
            " 0   customer_id               99441 non-null  object\n",
            " 1   customer_unique_id        99441 non-null  object\n",
            " 2   customer_zip_code_prefix  99441 non-null  int64 \n",
            " 3   customer_city             99441 non-null  object\n",
            " 4   customer_state            99441 non-null  object\n",
            "dtypes: int64(1), object(4)\n",
            "memory usage: 3.8+ MB\n"
          ]
        }
      ],
      "source": [
        "# Check the data structure\n",
        "df_customers.info()"
      ]
    },
    {
      "cell_type": "code",
      "execution_count": 21,
      "metadata": {
        "id": "aBg8CK7zBG0k"
      },
      "outputs": [],
      "source": [
        "# Keep only relevant columns\n",
        "df_customers = df_customers[[\"customer_id\",\"customer_state\"]]"
      ]
    },
    {
      "cell_type": "code",
      "execution_count": 22,
      "metadata": {
        "colab": {
          "base_uri": "https://localhost:8080/"
        },
        "id": "KUO1FrAlC7nW",
        "outputId": "d793e930-d076-408c-9297-a6681d053e25"
      },
      "outputs": [
        {
          "data": {
            "text/plain": [
              "True"
            ]
          },
          "execution_count": 22,
          "metadata": {},
          "output_type": "execute_result"
        }
      ],
      "source": [
        "# Primary key test\n",
        "df_customers[\"customer_id\"].nunique() == len(df_customers)"
      ]
    },
    {
      "cell_type": "code",
      "execution_count": 23,
      "metadata": {
        "colab": {
          "base_uri": "https://localhost:8080/"
        },
        "id": "ApGvwhsgCFL0",
        "outputId": "0ec5c36c-37dc-4c4c-f4cb-df3b9a9a491f"
      },
      "outputs": [
        {
          "name": "stdout",
          "output_type": "stream",
          "text": [
            "<class 'pandas.core.frame.DataFrame'>\n",
            "RangeIndex: 99441 entries, 0 to 99440\n",
            "Data columns (total 2 columns):\n",
            " #   Column          Non-Null Count  Dtype \n",
            "---  ------          --------------  ----- \n",
            " 0   customer_id     99441 non-null  object\n",
            " 1   customer_state  99441 non-null  object\n",
            "dtypes: object(2)\n",
            "memory usage: 1.5+ MB\n"
          ]
        }
      ],
      "source": [
        "# Check the data structure after the cleaning\n",
        "df_customers.info()"
      ]
    },
    {
      "cell_type": "code",
      "execution_count": 24,
      "metadata": {
        "colab": {
          "base_uri": "https://localhost:8080/"
        },
        "id": "i-BlwiDuEhzC",
        "outputId": "32298758-3d75-4572-b94d-00be5c99977f"
      },
      "outputs": [
        {
          "data": {
            "text/plain": [
              "array(['SP', 'SC', 'MG', 'PR', 'RJ', 'RS', 'PA', 'GO', 'ES', 'BA', 'MA',\n",
              "       'MS', 'CE', 'DF', 'RN', 'PE', 'MT', 'AM', 'AP', 'AL', 'RO', 'PB',\n",
              "       'TO', 'PI', 'AC', 'SE', 'RR'], dtype=object)"
            ]
          },
          "execution_count": 24,
          "metadata": {},
          "output_type": "execute_result"
        }
      ],
      "source": [
        "# What are unique customer_state\n",
        "df_customers[\"customer_state\"].unique()"
      ]
    },
    {
      "cell_type": "markdown",
      "metadata": {
        "id": "HL7Jy3eeDi1E"
      },
      "source": [
        "### df_orders_status"
      ]
    },
    {
      "cell_type": "code",
      "execution_count": 25,
      "metadata": {
        "colab": {
          "base_uri": "https://localhost:8080/"
        },
        "id": "DyQXe_VHD4pk",
        "outputId": "b6df9034-37b7-46fa-9616-db1a90ef993e"
      },
      "outputs": [
        {
          "name": "stdout",
          "output_type": "stream",
          "text": [
            "<class 'pandas.core.frame.DataFrame'>\n",
            "RangeIndex: 99441 entries, 0 to 99440\n",
            "Data columns (total 8 columns):\n",
            " #   Column                         Non-Null Count  Dtype \n",
            "---  ------                         --------------  ----- \n",
            " 0   order_id                       99441 non-null  object\n",
            " 1   customer_id                    99441 non-null  object\n",
            " 2   order_status                   99441 non-null  object\n",
            " 3   order_purchase_timestamp       99441 non-null  object\n",
            " 4   order_approved_at              99281 non-null  object\n",
            " 5   order_delivered_carrier_date   97658 non-null  object\n",
            " 6   order_delivered_customer_date  96476 non-null  object\n",
            " 7   order_estimated_delivery_date  99441 non-null  object\n",
            "dtypes: object(8)\n",
            "memory usage: 6.1+ MB\n"
          ]
        }
      ],
      "source": [
        "# Check the columns, data types and nulls\n",
        "df_orders_status.info()"
      ]
    },
    {
      "cell_type": "code",
      "execution_count": 26,
      "metadata": {
        "id": "7qHZ72UMD73a"
      },
      "outputs": [],
      "source": [
        "# Convert datetimes\n",
        "df_orders_status[\"order_purchase_timestamp\"] = pd.to_datetime(df_orders_status[\"order_purchase_timestamp\"])\n",
        "df_orders_status[\"order_approved_at\"] = pd.to_datetime(df_orders_status[\"order_approved_at\"])\n",
        "df_orders_status[\"order_delivered_carrier_date\"] = pd.to_datetime(df_orders_status[\"order_delivered_carrier_date\"])\n",
        "df_orders_status[\"order_delivered_customer_date\"] = pd.to_datetime(df_orders_status[\"order_delivered_customer_date\"])\n",
        "df_orders_status[\"order_estimated_delivery_date\"] = pd.to_datetime(df_orders_status[\"order_estimated_delivery_date\"])"
      ]
    },
    {
      "cell_type": "code",
      "execution_count": 27,
      "metadata": {
        "id": "l0sHX0r_JeYJ"
      },
      "outputs": [],
      "source": [
        "# Calculate orders delivery time\n",
        "df_orders_status[\"delivery_time_days\"] = (df_orders_status[\"order_delivered_customer_date\"] - df_orders_status[\"order_purchase_timestamp\"]).dt.days"
      ]
    },
    {
      "cell_type": "code",
      "execution_count": 28,
      "metadata": {
        "id": "VZj2dSn4RvyL"
      },
      "outputs": [],
      "source": [
        "# Create a new column \"delayed\" (yes/no)\n",
        "df_orders_status[\"is_delayed\"] = np.where(df_orders_status['order_delivered_customer_date'] > df_orders_status['order_estimated_delivery_date'],1,0)"
      ]
    },
    {
      "cell_type": "code",
      "execution_count": 29,
      "metadata": {
        "id": "zZuKUUteVyxM"
      },
      "outputs": [],
      "source": [
        "# Calculate nb of orders_delayed\n",
        "df_orders_status[\"delayed_nb_days\"] = np.where(df_orders_status[\"is_delayed\"] == 1,\n",
        "     (df_orders_status['order_delivered_customer_date'] - df_orders_status['order_estimated_delivery_date']).dt.days,\n",
        "    0)"
      ]
    },
    {
      "cell_type": "code",
      "execution_count": 30,
      "metadata": {
        "colab": {
          "base_uri": "https://localhost:8080/"
        },
        "id": "44C4SoqMpQvo",
        "outputId": "ffc39462-7ba8-412b-a666-211f255f4a8c"
      },
      "outputs": [
        {
          "data": {
            "text/plain": [
              "order_id                         0.000000\n",
              "customer_id                      0.000000\n",
              "order_status                     0.000000\n",
              "order_purchase_timestamp         0.000000\n",
              "order_approved_at                0.001609\n",
              "order_delivered_carrier_date     0.017930\n",
              "order_delivered_customer_date    0.029817\n",
              "order_estimated_delivery_date    0.000000\n",
              "delivery_time_days               0.029817\n",
              "is_delayed                       0.000000\n",
              "delayed_nb_days                  0.000000\n",
              "dtype: float64"
            ]
          },
          "execution_count": 30,
          "metadata": {},
          "output_type": "execute_result"
        }
      ],
      "source": [
        "# Check nulls (percentage of total)\n",
        "df_orders_status.isnull().sum() / len(df_orders_status)"
      ]
    },
    {
      "cell_type": "code",
      "execution_count": 31,
      "metadata": {
        "colab": {
          "base_uri": "https://localhost:8080/"
        },
        "id": "QJdWpUPXF8Nx",
        "outputId": "b2619d3d-f046-4142-b91c-e81f5fd1ecb2"
      },
      "outputs": [
        {
          "data": {
            "text/plain": [
              "order_id                          0\n",
              "customer_id                       0\n",
              "order_status                      0\n",
              "order_purchase_timestamp          0\n",
              "order_approved_at                14\n",
              "order_delivered_carrier_date      2\n",
              "order_delivered_customer_date     8\n",
              "order_estimated_delivery_date     0\n",
              "delivery_time_days                8\n",
              "is_delayed                        0\n",
              "delayed_nb_days                   0\n",
              "dtype: int64"
            ]
          },
          "execution_count": 31,
          "metadata": {},
          "output_type": "execute_result"
        }
      ],
      "source": [
        "# check nulls for delivered orders\n",
        "df_orders_status[df_orders_status[\"order_status\"] == \"delivered\"].isnull().sum()"
      ]
    },
    {
      "cell_type": "code",
      "execution_count": 32,
      "metadata": {
        "id": "74I0SPpJPlAH"
      },
      "outputs": [],
      "source": [
        "# Fill nulls with 0\n",
        "df_orders_status = df_orders_status.fillna(0)"
      ]
    },
    {
      "cell_type": "code",
      "execution_count": 33,
      "metadata": {
        "id": "8HZy7rDOOTaq"
      },
      "outputs": [],
      "source": [
        "# Keep only relevant columns\n",
        "df_orders_status = df_orders_status[[\"order_id\",\"customer_id\",\"order_status\",\"order_purchase_timestamp\",\"delivery_time_days\",\"is_delayed\",\"delayed_nb_days\"]]"
      ]
    },
    {
      "cell_type": "code",
      "execution_count": 34,
      "metadata": {
        "colab": {
          "base_uri": "https://localhost:8080/"
        },
        "id": "kbwhV8NkFpnl",
        "outputId": "7c84fb76-4727-4faf-ac27-07076a621c2d"
      },
      "outputs": [
        {
          "data": {
            "text/plain": [
              "array(['delivered', 'invoiced', 'shipped', 'processing', 'unavailable',\n",
              "       'canceled', 'created', 'approved'], dtype=object)"
            ]
          },
          "execution_count": 34,
          "metadata": {},
          "output_type": "execute_result"
        }
      ],
      "source": [
        "# What are the order statuses\n",
        "df_orders_status[\"order_status\"].unique()"
      ]
    },
    {
      "cell_type": "code",
      "execution_count": 35,
      "metadata": {
        "colab": {
          "base_uri": "https://localhost:8080/"
        },
        "id": "V85wE0L7L6G7",
        "outputId": "a25a8fd5-f069-4e3e-c117-c05b80e9b3a6"
      },
      "outputs": [
        {
          "name": "stdout",
          "output_type": "stream",
          "text": [
            "<class 'pandas.core.frame.DataFrame'>\n",
            "RangeIndex: 99441 entries, 0 to 99440\n",
            "Data columns (total 7 columns):\n",
            " #   Column                    Non-Null Count  Dtype         \n",
            "---  ------                    --------------  -----         \n",
            " 0   order_id                  99441 non-null  object        \n",
            " 1   customer_id               99441 non-null  object        \n",
            " 2   order_status              99441 non-null  object        \n",
            " 3   order_purchase_timestamp  99441 non-null  datetime64[ns]\n",
            " 4   delivery_time_days        99441 non-null  float64       \n",
            " 5   is_delayed                99441 non-null  int32         \n",
            " 6   delayed_nb_days           99441 non-null  float64       \n",
            "dtypes: datetime64[ns](1), float64(2), int32(1), object(3)\n",
            "memory usage: 4.9+ MB\n"
          ]
        }
      ],
      "source": [
        "# Check the data structure after the cleaning\n",
        "df_orders_status.info()"
      ]
    },
    {
      "cell_type": "code",
      "execution_count": 36,
      "metadata": {
        "colab": {
          "base_uri": "https://localhost:8080/"
        },
        "id": "7vC2gRMztKg5",
        "outputId": "7dcfdda1-78f4-40a4-e0c3-18398cc23d08"
      },
      "outputs": [
        {
          "data": {
            "text/plain": [
              "True"
            ]
          },
          "execution_count": 36,
          "metadata": {},
          "output_type": "execute_result"
        }
      ],
      "source": [
        "# PK test\n",
        "df_orders_status[\"order_id\"].nunique() == len(df_orders_status)"
      ]
    },
    {
      "cell_type": "code",
      "execution_count": 37,
      "metadata": {
        "colab": {
          "base_uri": "https://localhost:8080/"
        },
        "id": "HN6ipdVKXjQw",
        "outputId": "21bd33ec-6687-4eee-fd42-a14879463ebe"
      },
      "outputs": [
        {
          "data": {
            "text/plain": [
              "is_delayed\n",
              "0    0.92129\n",
              "1    0.07871\n",
              "Name: proportion, dtype: float64"
            ]
          },
          "execution_count": 37,
          "metadata": {},
          "output_type": "execute_result"
        }
      ],
      "source": [
        "# percentage of delayed orders\n",
        "df_orders_status[\"is_delayed\"].value_counts(normalize = True)"
      ]
    },
    {
      "cell_type": "code",
      "execution_count": 38,
      "metadata": {
        "colab": {
          "base_uri": "https://localhost:8080/"
        },
        "id": "jqrFEecEX8v_",
        "outputId": "464d9c7c-3ea2-43ce-8385-ac5cafd1c8ef"
      },
      "outputs": [
        {
          "data": {
            "text/plain": [
              "delayed_nb_days\n",
              "0.0      92906\n",
              "1.0        825\n",
              "2.0        545\n",
              "3.0        500\n",
              "7.0        483\n",
              "         ...  \n",
              "91.0         1\n",
              "123.0        1\n",
              "83.0         1\n",
              "67.0         1\n",
              "110.0        1\n",
              "Name: count, Length: 116, dtype: int64"
            ]
          },
          "execution_count": 38,
          "metadata": {},
          "output_type": "execute_result"
        }
      ],
      "source": [
        "# check number of delayed orders\n",
        "df_orders_status[\"delayed_nb_days\"].value_counts()"
      ]
    },
    {
      "cell_type": "markdown",
      "metadata": {
        "id": "QudpFEofa-hM"
      },
      "source": [
        "### df_orders_items"
      ]
    },
    {
      "cell_type": "code",
      "execution_count": 39,
      "metadata": {
        "colab": {
          "base_uri": "https://localhost:8080/"
        },
        "id": "DK-brxptiA0n",
        "outputId": "f98289f2-1d45-4a33-b7ee-571dc90645f6"
      },
      "outputs": [
        {
          "name": "stdout",
          "output_type": "stream",
          "text": [
            "<class 'pandas.core.frame.DataFrame'>\n",
            "RangeIndex: 112650 entries, 0 to 112649\n",
            "Data columns (total 7 columns):\n",
            " #   Column               Non-Null Count   Dtype  \n",
            "---  ------               --------------   -----  \n",
            " 0   order_id             112650 non-null  object \n",
            " 1   order_item_id        112650 non-null  int64  \n",
            " 2   product_id           112650 non-null  object \n",
            " 3   seller_id            112650 non-null  object \n",
            " 4   shipping_limit_date  112650 non-null  object \n",
            " 5   price                112650 non-null  float64\n",
            " 6   freight_value        112650 non-null  float64\n",
            "dtypes: float64(2), int64(1), object(4)\n",
            "memory usage: 6.0+ MB\n"
          ]
        }
      ],
      "source": [
        "df_orders_items.info()"
      ]
    },
    {
      "cell_type": "code",
      "execution_count": 40,
      "metadata": {
        "id": "jDOJb-_fiGZI"
      },
      "outputs": [],
      "source": [
        "# calculate total_turnover\n",
        "df_orders_items[\"total_turnover\"] = df_orders_items[\"price\"] + df_orders_items[\"freight_value\"]"
      ]
    },
    {
      "cell_type": "code",
      "execution_count": 41,
      "metadata": {
        "id": "bwYrqIrYl41V"
      },
      "outputs": [],
      "source": [
        "# keep only relevant columns\n",
        "df_orders_items=df_orders_items[[\"order_id\",\"product_id\",\"seller_id\",\"price\",\"freight_value\",\"total_turnover\"]]"
      ]
    },
    {
      "cell_type": "markdown",
      "metadata": {
        "id": "9vQ67CUHbdl-"
      },
      "source": [
        "### df_payments"
      ]
    },
    {
      "cell_type": "code",
      "execution_count": 42,
      "metadata": {
        "colab": {
          "base_uri": "https://localhost:8080/"
        },
        "id": "fCIoSIRffcsj",
        "outputId": "a43cf9e2-48d6-401a-e9e5-35c40933a5df"
      },
      "outputs": [
        {
          "name": "stdout",
          "output_type": "stream",
          "text": [
            "<class 'pandas.core.frame.DataFrame'>\n",
            "RangeIndex: 103886 entries, 0 to 103885\n",
            "Data columns (total 5 columns):\n",
            " #   Column                Non-Null Count   Dtype  \n",
            "---  ------                --------------   -----  \n",
            " 0   order_id              103886 non-null  object \n",
            " 1   payment_sequential    103886 non-null  int64  \n",
            " 2   payment_type          103886 non-null  object \n",
            " 3   payment_installments  103886 non-null  int64  \n",
            " 4   payment_value         103886 non-null  float64\n",
            "dtypes: float64(1), int64(2), object(2)\n",
            "memory usage: 4.0+ MB\n"
          ]
        }
      ],
      "source": [
        "# check the data structure\n",
        "df_payments.info()"
      ]
    },
    {
      "cell_type": "code",
      "execution_count": 43,
      "metadata": {
        "id": "oUPJ-MS0gKlN"
      },
      "outputs": [],
      "source": [
        "# keep only relevant columns\n",
        "df_payments = df_payments[[\"order_id\",\"payment_type\",\"payment_value\"]]"
      ]
    },
    {
      "cell_type": "code",
      "execution_count": 44,
      "metadata": {
        "colab": {
          "base_uri": "https://localhost:8080/"
        },
        "id": "84nAYtVXgjXO",
        "outputId": "a247b0d8-3587-45e9-cb53-06bfca3cc915"
      },
      "outputs": [
        {
          "name": "stdout",
          "output_type": "stream",
          "text": [
            "<class 'pandas.core.frame.DataFrame'>\n",
            "RangeIndex: 103886 entries, 0 to 103885\n",
            "Data columns (total 3 columns):\n",
            " #   Column         Non-Null Count   Dtype  \n",
            "---  ------         --------------   -----  \n",
            " 0   order_id       103886 non-null  object \n",
            " 1   payment_type   103886 non-null  object \n",
            " 2   payment_value  103886 non-null  float64\n",
            "dtypes: float64(1), object(2)\n",
            "memory usage: 2.4+ MB\n"
          ]
        }
      ],
      "source": [
        "# check the data structure after the cleaning\n",
        "df_payments.info()"
      ]
    },
    {
      "cell_type": "code",
      "execution_count": 45,
      "metadata": {
        "colab": {
          "base_uri": "https://localhost:8080/"
        },
        "id": "Vc272EUagoA9",
        "outputId": "823067b1-54b8-4da6-c91a-970103b74fd9"
      },
      "outputs": [
        {
          "data": {
            "text/plain": [
              "False"
            ]
          },
          "execution_count": 45,
          "metadata": {},
          "output_type": "execute_result"
        }
      ],
      "source": [
        "# pk test\n",
        "df_payments[\"order_id\"].nunique() == len(df_payments) #one order can be assosiated with the several payment types"
      ]
    },
    {
      "cell_type": "code",
      "execution_count": 46,
      "metadata": {
        "colab": {
          "base_uri": "https://localhost:8080/"
        },
        "id": "zt2K68jcg_VM",
        "outputId": "ae14e4e3-9819-42a4-f6a1-fa6a55c02f31"
      },
      "outputs": [
        {
          "data": {
            "text/plain": [
              "payment_type\n",
              "credit_card    0.739224\n",
              "boleto         0.190440\n",
              "voucher        0.055590\n",
              "debit_card     0.014718\n",
              "not_defined    0.000029\n",
              "Name: proportion, dtype: float64"
            ]
          },
          "execution_count": 46,
          "metadata": {},
          "output_type": "execute_result"
        }
      ],
      "source": [
        "# check payment type distribution\n",
        "df_payments[\"payment_type\"].value_counts(normalize=True)"
      ]
    },
    {
      "cell_type": "code",
      "execution_count": 47,
      "metadata": {
        "colab": {
          "base_uri": "https://localhost:8080/"
        },
        "id": "1oDTiDrAhfn4",
        "outputId": "7a51a1d3-9368-4873-d146-4abccd0b4fd3"
      },
      "outputs": [
        {
          "data": {
            "text/plain": [
              "160.9902666934835"
            ]
          },
          "execution_count": 47,
          "metadata": {},
          "output_type": "execute_result"
        }
      ],
      "source": [
        "# average payment value\n",
        "(df_payments.groupby(\"order_id\")[\"payment_value\"].sum()).mean()"
      ]
    },
    {
      "cell_type": "markdown",
      "metadata": {
        "id": "ugSAwp-KbngI"
      },
      "source": [
        "### df_reviews"
      ]
    },
    {
      "cell_type": "code",
      "execution_count": 48,
      "metadata": {
        "colab": {
          "base_uri": "https://localhost:8080/"
        },
        "id": "qcgPRt0wbqkh",
        "outputId": "d365d57e-8a95-4204-a562-69101eb8a84b"
      },
      "outputs": [
        {
          "name": "stdout",
          "output_type": "stream",
          "text": [
            "<class 'pandas.core.frame.DataFrame'>\n",
            "RangeIndex: 99224 entries, 0 to 99223\n",
            "Data columns (total 7 columns):\n",
            " #   Column                   Non-Null Count  Dtype \n",
            "---  ------                   --------------  ----- \n",
            " 0   review_id                99224 non-null  object\n",
            " 1   order_id                 99224 non-null  object\n",
            " 2   review_score             99224 non-null  int64 \n",
            " 3   review_comment_title     11568 non-null  object\n",
            " 4   review_comment_message   40977 non-null  object\n",
            " 5   review_creation_date     99224 non-null  object\n",
            " 6   review_answer_timestamp  99224 non-null  object\n",
            "dtypes: int64(1), object(6)\n",
            "memory usage: 5.3+ MB\n"
          ]
        }
      ],
      "source": [
        "# Check the data structure\n",
        "df_reviews.info()"
      ]
    },
    {
      "cell_type": "code",
      "execution_count": 49,
      "metadata": {
        "id": "LXPt-ol-bvFm"
      },
      "outputs": [],
      "source": [
        "# Drop columns with nulls values (not relevant for the analysis)\n",
        "df_reviews = df_reviews.dropna(axis='columns')"
      ]
    },
    {
      "cell_type": "code",
      "execution_count": 50,
      "metadata": {
        "collapsed": true,
        "id": "i4QBuFafKfmu"
      },
      "outputs": [],
      "source": [
        "# Convert datetime\n",
        "df_reviews[\"review_creation_date\"] = pd.to_datetime(df_reviews[\"review_creation_date\"])\n",
        "df_reviews[\"review_answer_timestamp\"] = pd.to_datetime(df_reviews[\"review_answer_timestamp\"])"
      ]
    },
    {
      "cell_type": "code",
      "execution_count": 51,
      "metadata": {
        "colab": {
          "base_uri": "https://localhost:8080/"
        },
        "id": "qGjpIYUIcwoa",
        "outputId": "6bd928a2-d9e8-40ee-ecee-574f903c575c"
      },
      "outputs": [
        {
          "data": {
            "text/plain": [
              "False"
            ]
          },
          "execution_count": 51,
          "metadata": {},
          "output_type": "execute_result"
        }
      ],
      "source": [
        "# Pk test\n",
        "df_reviews[\"review_id\"].nunique() == len(df_reviews)"
      ]
    },
    {
      "cell_type": "code",
      "execution_count": 52,
      "metadata": {
        "colab": {
          "base_uri": "https://localhost:8080/"
        },
        "id": "7xA7yWI8eo_6",
        "outputId": "8a30df58-af9c-4e58-df35-b4ba6fdeab3d"
      },
      "outputs": [
        {
          "data": {
            "text/plain": [
              "review_score\n",
              "5    57328\n",
              "4    19142\n",
              "1    11424\n",
              "3     8179\n",
              "2     3151\n",
              "Name: count, dtype: int64"
            ]
          },
          "execution_count": 52,
          "metadata": {},
          "output_type": "execute_result"
        }
      ],
      "source": [
        "# Review score distribution\n",
        "df_reviews[\"review_score\"].value_counts()"
      ]
    },
    {
      "cell_type": "code",
      "execution_count": 53,
      "metadata": {
        "id": "iYR6n9hLJILj"
      },
      "outputs": [],
      "source": [
        "# Create custom column\n",
        "df_reviews[\"is_satisfied\"] = np.where(df_reviews[\"review_score\"] >= 4,1,0)"
      ]
    },
    {
      "cell_type": "code",
      "execution_count": 54,
      "metadata": {
        "colab": {
          "base_uri": "https://localhost:8080/"
        },
        "id": "I2pgyXqecD5j",
        "outputId": "91e69270-e2b9-4761-a1a1-477cbacf3e3a"
      },
      "outputs": [
        {
          "name": "stdout",
          "output_type": "stream",
          "text": [
            "<class 'pandas.core.frame.DataFrame'>\n",
            "RangeIndex: 99224 entries, 0 to 99223\n",
            "Data columns (total 6 columns):\n",
            " #   Column                   Non-Null Count  Dtype         \n",
            "---  ------                   --------------  -----         \n",
            " 0   review_id                99224 non-null  object        \n",
            " 1   order_id                 99224 non-null  object        \n",
            " 2   review_score             99224 non-null  int64         \n",
            " 3   review_creation_date     99224 non-null  datetime64[ns]\n",
            " 4   review_answer_timestamp  99224 non-null  datetime64[ns]\n",
            " 5   is_satisfied             99224 non-null  int32         \n",
            "dtypes: datetime64[ns](2), int32(1), int64(1), object(2)\n",
            "memory usage: 4.2+ MB\n"
          ]
        }
      ],
      "source": [
        "# Check the data structure after the cleaning\n",
        "df_reviews.info()"
      ]
    },
    {
      "cell_type": "markdown",
      "metadata": {
        "id": "1LuRX7Cwme5d"
      },
      "source": [
        "# Descriptive Statistics"
      ]
    },
    {
      "cell_type": "markdown",
      "metadata": {
        "id": "bVOC5EWuBesD"
      },
      "source": [
        "## Order Price"
      ]
    },
    {
      "cell_type": "code",
      "execution_count": 55,
      "metadata": {
        "colab": {
          "base_uri": "https://localhost:8080/",
          "height": 300
        },
        "id": "rESiWwuXBhSz",
        "outputId": "8a13cac2-04c1-483c-befe-86a6191bd8e8"
      },
      "outputs": [
        {
          "data": {
            "text/html": [
              "<div>\n",
              "<style scoped>\n",
              "    .dataframe tbody tr th:only-of-type {\n",
              "        vertical-align: middle;\n",
              "    }\n",
              "\n",
              "    .dataframe tbody tr th {\n",
              "        vertical-align: top;\n",
              "    }\n",
              "\n",
              "    .dataframe thead th {\n",
              "        text-align: right;\n",
              "    }\n",
              "</style>\n",
              "<table border=\"1\" class=\"dataframe\">\n",
              "  <thead>\n",
              "    <tr style=\"text-align: right;\">\n",
              "      <th></th>\n",
              "      <th>price</th>\n",
              "    </tr>\n",
              "  </thead>\n",
              "  <tbody>\n",
              "    <tr>\n",
              "      <th>count</th>\n",
              "      <td>112650.000000</td>\n",
              "    </tr>\n",
              "    <tr>\n",
              "      <th>mean</th>\n",
              "      <td>120.653739</td>\n",
              "    </tr>\n",
              "    <tr>\n",
              "      <th>std</th>\n",
              "      <td>183.633928</td>\n",
              "    </tr>\n",
              "    <tr>\n",
              "      <th>min</th>\n",
              "      <td>0.850000</td>\n",
              "    </tr>\n",
              "    <tr>\n",
              "      <th>25%</th>\n",
              "      <td>39.900000</td>\n",
              "    </tr>\n",
              "    <tr>\n",
              "      <th>50%</th>\n",
              "      <td>74.990000</td>\n",
              "    </tr>\n",
              "    <tr>\n",
              "      <th>75%</th>\n",
              "      <td>134.900000</td>\n",
              "    </tr>\n",
              "    <tr>\n",
              "      <th>max</th>\n",
              "      <td>6735.000000</td>\n",
              "    </tr>\n",
              "  </tbody>\n",
              "</table>\n",
              "</div>"
            ],
            "text/plain": [
              "               price\n",
              "count  112650.000000\n",
              "mean      120.653739\n",
              "std       183.633928\n",
              "min         0.850000\n",
              "25%        39.900000\n",
              "50%        74.990000\n",
              "75%       134.900000\n",
              "max      6735.000000"
            ]
          },
          "execution_count": 55,
          "metadata": {},
          "output_type": "execute_result"
        }
      ],
      "source": [
        "df_orders_items[[\"price\"]].describe()"
      ]
    },
    {
      "cell_type": "code",
      "execution_count": 56,
      "metadata": {
        "colab": {
          "base_uri": "https://localhost:8080/",
          "height": 472
        },
        "id": "y1WB3VCNBeKz",
        "outputId": "551af1f4-67ad-428e-a183-c154dfd442d3"
      },
      "outputs": [
        {
          "data": {
            "image/png": "[encoded data removed]",
            "text/plain": [
              "<Figure size 640x480 with 1 Axes>"
            ]
          },
          "metadata": {},
          "output_type": "display_data"
        }
      ],
      "source": [
        "# Plot the price distribution\n",
        "sns.histplot(data=df_orders_items, x=\"price\",bins=350)\n",
        "plt.title(\"Price Distribution\")\n",
        "plt.xlim(0, 300)\n",
        "plt.show()"
      ]
    },
    {
      "cell_type": "code",
      "execution_count": 57,
      "metadata": {
        "colab": {
          "base_uri": "https://localhost:8080/"
        },
        "id": "RbWx4UmcD9cA",
        "outputId": "645f36fc-5dfb-4ccb-a091-8a326a52c726"
      },
      "outputs": [
        {
          "name": "stdout",
          "output_type": "stream",
          "text": [
            "The most common price is 59.9\n"
          ]
        }
      ],
      "source": [
        "print(f'The most common price is {df_orders_items[\"price\"].mode()[0]}')"
      ]
    },
    {
      "cell_type": "markdown",
      "metadata": {
        "id": "SNGvjZihIiF1"
      },
      "source": [
        "## Reviews"
      ]
    },
    {
      "cell_type": "code",
      "execution_count": 58,
      "metadata": {
        "colab": {
          "base_uri": "https://localhost:8080/"
        },
        "id": "7sGX81_GJ0f9",
        "outputId": "31b8bc74-449a-4c75-80ac-a616ceef3899"
      },
      "outputs": [
        {
          "name": "stdout",
          "output_type": "stream",
          "text": [
            "Mean of review_score: 4.08642062404257\n"
          ]
        }
      ],
      "source": [
        "print(f'Mean of review_score: {df_reviews[\"review_score\"].mean()}')"
      ]
    },
    {
      "cell_type": "code",
      "execution_count": 59,
      "metadata": {
        "colab": {
          "base_uri": "https://localhost:8080/",
          "height": 472
        },
        "id": "p30Y-NSVO3-F",
        "outputId": "4cd809ae-7b43-4bac-bb48-6c261e868c9e"
      },
      "outputs": [
        {
          "data": {
            "image/png": "[encoded data removed]",
            "text/plain": [
              "<Figure size 640x480 with 1 Axes>"
            ]
          },
          "metadata": {},
          "output_type": "display_data"
        }
      ],
      "source": [
        "# check the distribution of the reviews scores\n",
        "sns.histplot(data=df_reviews, x=\"review_score\",bins=5)\n",
        "plt.title(\"Distribution of Review Scores\")\n",
        "plt.show()"
      ]
    },
    {
      "cell_type": "code",
      "execution_count": 60,
      "metadata": {
        "colab": {
          "base_uri": "https://localhost:8080/"
        },
        "id": "17olnirdNioj",
        "outputId": "09d58adc-7c28-43ec-93af-06fb6cbc725b"
      },
      "outputs": [
        {
          "name": "stdout",
          "output_type": "stream",
          "text": [
            "Proportion: is_satisfied\n",
            "1    0.77068\n",
            "0    0.22932\n",
            "Name: proportion, dtype: float64\n"
          ]
        }
      ],
      "source": [
        "print(f'Proportion: {df_reviews[\"is_satisfied\"].value_counts(normalize=True)}')"
      ]
    },
    {
      "cell_type": "code",
      "execution_count": 61,
      "metadata": {
        "colab": {
          "base_uri": "https://localhost:8080/",
          "height": 542
        },
        "id": "rBICA8KGRq0O",
        "outputId": "6ff25a8c-b296-4a0e-edb5-fea6c406aa37"
      },
      "outputs": [
        {
          "data": {
            "image/png": "[encoded data removed]",
            "text/plain": [
              "<Figure size 640x480 with 1 Axes>"
            ]
          },
          "metadata": {},
          "output_type": "display_data"
        }
      ],
      "source": [
        "# plot the proportion of unsatisfied reviews\n",
        "df_aggr_satisfied = df_reviews.groupby(\"is_satisfied\",as_index=False) [\"review_id\"].count()\n",
        "\n",
        "fig, ax = plt.subplots()\n",
        "ax.pie(df_aggr_satisfied[\"review_id\"], labels=df_aggr_satisfied[\"is_satisfied\"], autopct='%1.1f%%')\n",
        "ax.set_title(\"Proportion of satisfied and unsatisfied reviews\")\n",
        "plt.show()"
      ]
    },
    {
      "cell_type": "markdown",
      "metadata": {},
      "source": [
        "> 22.9% of orders have unsatisfied reviews"
      ]
    },
    {
      "cell_type": "markdown",
      "metadata": {
        "id": "jjoUtHvVrCU_"
      },
      "source": [
        "## Delivery Time\n"
      ]
    },
    {
      "cell_type": "code",
      "execution_count": 62,
      "metadata": {
        "id": "H7lw242yB6qR"
      },
      "outputs": [],
      "source": [
        "#Filter orders with \"delivered\" status\n",
        "df_orders_delivered = df_orders_status[df_orders_status[\"order_status\"] == \"delivered\"]"
      ]
    },
    {
      "cell_type": "code",
      "execution_count": 63,
      "metadata": {
        "colab": {
          "base_uri": "https://localhost:8080/",
          "height": 300
        },
        "id": "bRKrjOuXu_jk",
        "outputId": "2c613567-23cd-43af-e385-e977d514b131"
      },
      "outputs": [
        {
          "data": {
            "text/html": [
              "<div>\n",
              "<style scoped>\n",
              "    .dataframe tbody tr th:only-of-type {\n",
              "        vertical-align: middle;\n",
              "    }\n",
              "\n",
              "    .dataframe tbody tr th {\n",
              "        vertical-align: top;\n",
              "    }\n",
              "\n",
              "    .dataframe thead th {\n",
              "        text-align: right;\n",
              "    }\n",
              "</style>\n",
              "<table border=\"1\" class=\"dataframe\">\n",
              "  <thead>\n",
              "    <tr style=\"text-align: right;\">\n",
              "      <th></th>\n",
              "      <th>order_purchase_timestamp</th>\n",
              "      <th>delivery_time_days</th>\n",
              "      <th>is_delayed</th>\n",
              "      <th>delayed_nb_days</th>\n",
              "    </tr>\n",
              "  </thead>\n",
              "  <tbody>\n",
              "    <tr>\n",
              "      <th>count</th>\n",
              "      <td>96478</td>\n",
              "      <td>96478.000000</td>\n",
              "      <td>96478.000000</td>\n",
              "      <td>96478.000000</td>\n",
              "    </tr>\n",
              "    <tr>\n",
              "      <th>mean</th>\n",
              "      <td>2018-01-01 23:29:31.939913984</td>\n",
              "      <td>12.092601</td>\n",
              "      <td>0.081117</td>\n",
              "      <td>0.719252</td>\n",
              "    </tr>\n",
              "    <tr>\n",
              "      <th>min</th>\n",
              "      <td>2016-09-15 12:16:38</td>\n",
              "      <td>0.000000</td>\n",
              "      <td>0.000000</td>\n",
              "      <td>0.000000</td>\n",
              "    </tr>\n",
              "    <tr>\n",
              "      <th>25%</th>\n",
              "      <td>2017-09-14 09:00:23.249999872</td>\n",
              "      <td>6.000000</td>\n",
              "      <td>0.000000</td>\n",
              "      <td>0.000000</td>\n",
              "    </tr>\n",
              "    <tr>\n",
              "      <th>50%</th>\n",
              "      <td>2018-01-20 19:45:45</td>\n",
              "      <td>10.000000</td>\n",
              "      <td>0.000000</td>\n",
              "      <td>0.000000</td>\n",
              "    </tr>\n",
              "    <tr>\n",
              "      <th>75%</th>\n",
              "      <td>2018-05-05 18:54:47</td>\n",
              "      <td>15.000000</td>\n",
              "      <td>0.000000</td>\n",
              "      <td>0.000000</td>\n",
              "    </tr>\n",
              "    <tr>\n",
              "      <th>max</th>\n",
              "      <td>2018-08-29 15:00:37</td>\n",
              "      <td>209.000000</td>\n",
              "      <td>1.000000</td>\n",
              "      <td>188.000000</td>\n",
              "    </tr>\n",
              "    <tr>\n",
              "      <th>std</th>\n",
              "      <td>NaN</td>\n",
              "      <td>9.551619</td>\n",
              "      <td>0.273016</td>\n",
              "      <td>4.652375</td>\n",
              "    </tr>\n",
              "  </tbody>\n",
              "</table>\n",
              "</div>"
            ],
            "text/plain": [
              "            order_purchase_timestamp  delivery_time_days    is_delayed  \\\n",
              "count                          96478        96478.000000  96478.000000   \n",
              "mean   2018-01-01 23:29:31.939913984           12.092601      0.081117   \n",
              "min              2016-09-15 12:16:38            0.000000      0.000000   \n",
              "25%    2017-09-14 09:00:23.249999872            6.000000      0.000000   \n",
              "50%              2018-01-20 19:45:45           10.000000      0.000000   \n",
              "75%              2018-05-05 18:54:47           15.000000      0.000000   \n",
              "max              2018-08-29 15:00:37          209.000000      1.000000   \n",
              "std                              NaN            9.551619      0.273016   \n",
              "\n",
              "       delayed_nb_days  \n",
              "count     96478.000000  \n",
              "mean          0.719252  \n",
              "min           0.000000  \n",
              "25%           0.000000  \n",
              "50%           0.000000  \n",
              "75%           0.000000  \n",
              "max         188.000000  \n",
              "std           4.652375  "
            ]
          },
          "execution_count": 63,
          "metadata": {},
          "output_type": "execute_result"
        }
      ],
      "source": [
        "df_orders_delivered.describe()"
      ]
    },
    {
      "cell_type": "code",
      "execution_count": 64,
      "metadata": {
        "colab": {
          "base_uri": "https://localhost:8080/",
          "height": 472
        },
        "id": "i2aG_e6Yz12X",
        "outputId": "5597b78e-0167-4f50-ad90-20ea8f7603c6"
      },
      "outputs": [
        {
          "data": {
            "image/png": "[encoded data removed]",
            "text/plain": [
              "<Figure size 640x480 with 1 Axes>"
            ]
          },
          "metadata": {},
          "output_type": "display_data"
        }
      ],
      "source": [
        "sns.boxplot(x=df_orders_delivered[\"delivery_time_days\"])\n",
        "plt.title(\"Distribution of Delivery time days\")\n",
        "plt.show()"
      ]
    },
    {
      "cell_type": "code",
      "execution_count": 65,
      "metadata": {
        "colab": {
          "base_uri": "https://localhost:8080/",
          "height": 542
        },
        "id": "hG2SqArdrKAv",
        "outputId": "434b7e66-7115-42e4-c796-302d741e4075"
      },
      "outputs": [
        {
          "data": {
            "image/png": "[encoded data removed]",
            "text/plain": [
              "<Figure size 640x480 with 1 Axes>"
            ]
          },
          "metadata": {},
          "output_type": "display_data"
        }
      ],
      "source": [
        "# plot the weight of orders that are delayed\n",
        "\n",
        "df_aggr_delayed = df_orders_delivered.groupby(\"is_delayed\", as_index=False)[\"order_id\"].nunique()\n",
        "\n",
        "fig, ax = plt.subplots()\n",
        "ax.pie(df_aggr_delayed[\"order_id\"], labels=df_aggr_delayed[\"is_delayed\"], autopct='%1.1f%%')\n",
        "ax.set_title(\"Proportion of delayed and not delayed orders\")\n",
        "plt.show()"
      ]
    },
    {
      "cell_type": "markdown",
      "metadata": {
        "id": "muGtfXr18i0t"
      },
      "source": [
        "> 8.1% of orders are delayed"
      ]
    },
    {
      "cell_type": "markdown",
      "metadata": {
        "id": "PuKbPt05M74e"
      },
      "source": [
        "# Correlation"
      ]
    },
    {
      "cell_type": "markdown",
      "metadata": {
        "id": "XM3DPCTE60XW"
      },
      "source": [
        "## Customer Satisfaction vs Delayed Orders"
      ]
    },
    {
      "cell_type": "markdown",
      "metadata": {
        "id": "08G-6LBw4HYf"
      },
      "source": [
        "Is there a correlation between having unsatisfied reviews and delayed orders?"
      ]
    },
    {
      "cell_type": "code",
      "execution_count": 66,
      "metadata": {
        "id": "5D3EQHGb45GM"
      },
      "outputs": [],
      "source": [
        "# merge orders table and reviews table. Inner join. Might miss some orders without reviews => ok for the specific analysis\n",
        "df_merged = pd.merge(df_orders_delivered,df_reviews,on=\"order_id\",how=\"inner\")"
      ]
    },
    {
      "cell_type": "code",
      "execution_count": 67,
      "metadata": {
        "colab": {
          "base_uri": "https://localhost:8080/"
        },
        "id": "J02kyie28DcU",
        "outputId": "2fa7d5f0-cf0a-41f3-c2cc-63699b8cec40"
      },
      "outputs": [
        {
          "data": {
            "text/plain": [
              "False"
            ]
          },
          "execution_count": 67,
          "metadata": {},
          "output_type": "execute_result"
        }
      ],
      "source": [
        "# check pk\n",
        "df_merged[\"order_id\"].nunique() == len (df_merged) #one order have multiple reviews"
      ]
    },
    {
      "cell_type": "code",
      "execution_count": 68,
      "metadata": {
        "colab": {
          "base_uri": "https://localhost:8080/",
          "height": 472
        },
        "id": "MSt7l-M0MgRp",
        "outputId": "a38581c9-c08f-48d9-e1bf-eaf2b52419a3"
      },
      "outputs": [
        {
          "data": {
            "image/png": "[encoded data removed]",
            "text/plain": [
              "<Figure size 1500x480 with 2 Axes>"
            ]
          },
          "metadata": {},
          "output_type": "display_data"
        }
      ],
      "source": [
        "# show the distribution of review scores for delayed and not delayed orders\n",
        "fig, (ax1,ax2) = plt.subplots(1,2)\n",
        "sns.histplot(data=df_merged[df_merged[\"is_delayed\"]==1], x=\"review_score\", bins=10, ax=ax1)\n",
        "sns.histplot(data=df_merged[df_merged[\"is_delayed\"]==0], x=\"review_score\", bins=10, ax=ax2)\n",
        "fig.set_figwidth(15)\n",
        "ax1.title.set_text(\"Delayed\")\n",
        "ax2.title.set_text(\"Not delayed\")"
      ]
    },
    {
      "cell_type": "markdown",
      "metadata": {
        "id": "UdfDjVw3Ufg6"
      },
      "source": [
        "* The most common review score among the delayed orders : 1\n",
        "* The most common review score among the not delayed orders: 5"
      ]
    },
    {
      "cell_type": "markdown",
      "metadata": {
        "id": "hv214G2M5mJm"
      },
      "source": [
        "Hypothesis to be proved: If the order is delayed, the customer tends to be unsatisfied."
      ]
    },
    {
      "cell_type": "markdown",
      "metadata": {
        "id": "yvJ_Zt9zNBbB"
      },
      "source": [
        "## Delayed orders vs Order Price"
      ]
    },
    {
      "cell_type": "markdown",
      "metadata": {
        "id": "gX-ExD2n33ph"
      },
      "source": [
        "If the customers who pays more have less delayed orders?"
      ]
    },
    {
      "cell_type": "code",
      "execution_count": 69,
      "metadata": {
        "id": "csc7B0sGOQFs"
      },
      "outputs": [],
      "source": [
        "# aggregate price by order_id\n",
        "df_aggr_orders_price = df_orders_items.groupby(\"order_id\") [['price', 'freight_value', 'total_turnover']].sum()\n",
        "\n",
        "# merge\n",
        "df_merged_delivered_price = pd.merge(df_orders_delivered, df_aggr_orders_price, on=\"order_id\", how=\"inner\")"
      ]
    },
    {
      "cell_type": "code",
      "execution_count": 70,
      "metadata": {
        "colab": {
          "base_uri": "https://localhost:8080/",
          "height": 489
        },
        "id": "aTU5EaKIkd_P",
        "outputId": "3d602808-b1ac-4b2a-d5cd-2cb0e33d4cf1"
      },
      "outputs": [
        {
          "data": {
            "image/png": "[encoded data removed]",
            "text/plain": [
              "<Figure size 640x480 with 1 Axes>"
            ]
          },
          "metadata": {},
          "output_type": "display_data"
        }
      ],
      "source": [
        "# plot the average price of delayed and on-time orders\n",
        "fig = sns.kdeplot(data=df_merged_delivered_price, x=\"price\", hue=\"is_delayed\")\n",
        "fig.set_xlim(0, np.percentile(df_merged_delivered_price[\"price\"],95))\n",
        "fig.set_title(\"The average price of delayed and on-time orders\")\n",
        "plt.show()"
      ]
    },
    {
      "cell_type": "markdown",
      "metadata": {
        "id": "8QsP3LsD-ag5"
      },
      "source": [
        "Hypothesis to be proved - There is a difference between the average price of delayed and on-time orders"
      ]
    },
    {
      "cell_type": "markdown",
      "metadata": {
        "id": "IPKRCicpH890"
      },
      "source": [
        "# Hypothesis Testing"
      ]
    },
    {
      "cell_type": "markdown",
      "metadata": {
        "id": "lgVi5LsdixNo"
      },
      "source": [
        "### Chi-squared test"
      ]
    },
    {
      "cell_type": "markdown",
      "metadata": {
        "id": "7aSrRjjpIOyq"
      },
      "source": [
        "\n",
        "\n",
        "*   **Question**: \"Is there a **relationship** between unsatisfied reviews and delayed orders?\" 5% risk\n",
        "*   H0: There is no relationship"
      ]
    },
    {
      "cell_type": "code",
      "execution_count": 71,
      "metadata": {
        "id": "WazfIHaRUi4b"
      },
      "outputs": [],
      "source": [
        "df_delayed_satisfied = pd.pivot_table(df_merged, values='order_id', index=[\"is_satisfied\"],\n",
        "                       columns=['is_delayed'], aggfunc=\"nunique\")"
      ]
    },
    {
      "cell_type": "code",
      "execution_count": 72,
      "metadata": {
        "colab": {
          "base_uri": "https://localhost:8080/",
          "height": 143
        },
        "id": "rDzCeR9DXN7W",
        "outputId": "1a30050f-7df4-4d28-f800-4c58567fc798"
      },
      "outputs": [
        {
          "data": {
            "text/html": [
              "<div>\n",
              "<style scoped>\n",
              "    .dataframe tbody tr th:only-of-type {\n",
              "        vertical-align: middle;\n",
              "    }\n",
              "\n",
              "    .dataframe tbody tr th {\n",
              "        vertical-align: top;\n",
              "    }\n",
              "\n",
              "    .dataframe thead th {\n",
              "        text-align: right;\n",
              "    }\n",
              "</style>\n",
              "<table border=\"1\" class=\"dataframe\">\n",
              "  <thead>\n",
              "    <tr style=\"text-align: right;\">\n",
              "      <th>is_delayed</th>\n",
              "      <th>0</th>\n",
              "      <th>1</th>\n",
              "    </tr>\n",
              "    <tr>\n",
              "      <th>is_satisfied</th>\n",
              "      <th></th>\n",
              "      <th></th>\n",
              "    </tr>\n",
              "  </thead>\n",
              "  <tbody>\n",
              "    <tr>\n",
              "      <th>0</th>\n",
              "      <td>0.172388</td>\n",
              "      <td>0.653676</td>\n",
              "    </tr>\n",
              "    <tr>\n",
              "      <th>1</th>\n",
              "      <td>0.827612</td>\n",
              "      <td>0.346324</td>\n",
              "    </tr>\n",
              "  </tbody>\n",
              "</table>\n",
              "</div>"
            ],
            "text/plain": [
              "is_delayed           0         1\n",
              "is_satisfied                    \n",
              "0             0.172388  0.653676\n",
              "1             0.827612  0.346324"
            ]
          },
          "execution_count": 72,
          "metadata": {},
          "output_type": "execute_result"
        }
      ],
      "source": [
        "df_delayed_satisfied / df_delayed_satisfied.sum()"
      ]
    },
    {
      "cell_type": "code",
      "execution_count": 73,
      "metadata": {
        "colab": {
          "base_uri": "https://localhost:8080/"
        },
        "id": "1iy3nQ2CYDv6",
        "outputId": "ae4a77ef-7f91-4fb4-b06a-f133ae088ac6"
      },
      "outputs": [
        {
          "name": "stdout",
          "output_type": "stream",
          "text": [
            "p-value: 0.0\n"
          ]
        }
      ],
      "source": [
        "# Create contigency table\n",
        "df = df_delayed_satisfied\n",
        "\n",
        "# Perform Chi-Squared test\n",
        "chi_res = stats.chi2_contingency(df)\n",
        "\n",
        "print(f'p-value: {chi_res[1]}')"
      ]
    },
    {
      "cell_type": "markdown",
      "metadata": {
        "id": "kultpYpffi3g"
      },
      "source": [
        "We reject H0 => There is a relationship between being unsatisfied and having the delayed orders\n",
        "\n"
      ]
    },
    {
      "cell_type": "markdown",
      "metadata": {
        "id": "m_hfwor6jnQw"
      },
      "source": [
        "## Z-test"
      ]
    },
    {
      "cell_type": "markdown",
      "metadata": {
        "id": "ML-N6WKx_54y"
      },
      "source": [
        "*   **Question**: \"Is there a **difference** in the mean price between delayed and not delayed orders?\" 5% risk\n",
        "*   H0: There is no difference"
      ]
    },
    {
      "cell_type": "code",
      "execution_count": 74,
      "metadata": {
        "id": "ipUay7C9Cwjn"
      },
      "outputs": [],
      "source": [
        "df_delayed = df_merged_delivered_price[df_merged_delivered_price [\"is_delayed\"] == 1][\"price\"]"
      ]
    },
    {
      "cell_type": "code",
      "execution_count": 75,
      "metadata": {
        "id": "eLp63mei8T9m"
      },
      "outputs": [],
      "source": [
        "df_on_time = df_merged_delivered_price[df_merged_delivered_price [\"is_delayed\"] == 0][\"price\"]"
      ]
    },
    {
      "cell_type": "code",
      "execution_count": 76,
      "metadata": {
        "colab": {
          "base_uri": "https://localhost:8080/"
        },
        "id": "0hjCfvXX81TO",
        "outputId": "7aebc0b8-6388-4035-97c5-3b67e45b0cf5"
      },
      "outputs": [
        {
          "name": "stdout",
          "output_type": "stream",
          "text": [
            "p-value: 1.0809113193391223e-06\n"
          ]
        }
      ],
      "source": [
        "from statsmodels.stats.weightstats import ztest\n",
        "\n",
        "zScore, pValue = ztest(df_delayed,\n",
        "                       df_on_time)\n",
        "\n",
        "print(f'p-value: {pValue}')"
      ]
    },
    {
      "cell_type": "markdown",
      "metadata": {
        "id": "Szzqk-3o-Lcf"
      },
      "source": [
        "We reject H0 => There is a difference in the average price of delayed and on-time orders"
      ]
    },
    {
      "cell_type": "markdown",
      "metadata": {
        "id": "ZBA50ERMR0YU"
      },
      "source": [
        "## Pearson Correlation"
      ]
    },
    {
      "cell_type": "code",
      "execution_count": 77,
      "metadata": {
        "colab": {
          "base_uri": "https://localhost:8080/",
          "height": 206
        },
        "id": "8ssTLtC4_KUr",
        "outputId": "85da4acc-dfd2-44b2-9c46-11644728d1c4"
      },
      "outputs": [
        {
          "data": {
            "text/html": [
              "<div>\n",
              "<style scoped>\n",
              "    .dataframe tbody tr th:only-of-type {\n",
              "        vertical-align: middle;\n",
              "    }\n",
              "\n",
              "    .dataframe tbody tr th {\n",
              "        vertical-align: top;\n",
              "    }\n",
              "\n",
              "    .dataframe thead th {\n",
              "        text-align: right;\n",
              "    }\n",
              "</style>\n",
              "<table border=\"1\" class=\"dataframe\">\n",
              "  <thead>\n",
              "    <tr style=\"text-align: right;\">\n",
              "      <th></th>\n",
              "      <th>delivery_time_days</th>\n",
              "      <th>is_delayed</th>\n",
              "      <th>delayed_nb_days</th>\n",
              "      <th>review_score</th>\n",
              "      <th>is_satisfied</th>\n",
              "    </tr>\n",
              "  </thead>\n",
              "  <tbody>\n",
              "    <tr>\n",
              "      <th>delivery_time_days</th>\n",
              "      <td>1.000000</td>\n",
              "      <td>0.587772</td>\n",
              "      <td>0.693787</td>\n",
              "      <td>-0.333606</td>\n",
              "      <td>-0.292204</td>\n",
              "    </tr>\n",
              "    <tr>\n",
              "      <th>is_delayed</th>\n",
              "      <td>0.587772</td>\n",
              "      <td>1.000000</td>\n",
              "      <td>0.521438</td>\n",
              "      <td>-0.364475</td>\n",
              "      <td>-0.320211</td>\n",
              "    </tr>\n",
              "    <tr>\n",
              "      <th>delayed_nb_days</th>\n",
              "      <td>0.693787</td>\n",
              "      <td>0.521438</td>\n",
              "      <td>1.000000</td>\n",
              "      <td>-0.263219</td>\n",
              "      <td>-0.225359</td>\n",
              "    </tr>\n",
              "    <tr>\n",
              "      <th>review_score</th>\n",
              "      <td>-0.333606</td>\n",
              "      <td>-0.364475</td>\n",
              "      <td>-0.263219</td>\n",
              "      <td>1.000000</td>\n",
              "      <td>0.895518</td>\n",
              "    </tr>\n",
              "    <tr>\n",
              "      <th>is_satisfied</th>\n",
              "      <td>-0.292204</td>\n",
              "      <td>-0.320211</td>\n",
              "      <td>-0.225359</td>\n",
              "      <td>0.895518</td>\n",
              "      <td>1.000000</td>\n",
              "    </tr>\n",
              "  </tbody>\n",
              "</table>\n",
              "</div>"
            ],
            "text/plain": [
              "                    delivery_time_days  is_delayed  delayed_nb_days  \\\n",
              "delivery_time_days            1.000000    0.587772         0.693787   \n",
              "is_delayed                    0.587772    1.000000         0.521438   \n",
              "delayed_nb_days               0.693787    0.521438         1.000000   \n",
              "review_score                 -0.333606   -0.364475        -0.263219   \n",
              "is_satisfied                 -0.292204   -0.320211        -0.225359   \n",
              "\n",
              "                    review_score  is_satisfied  \n",
              "delivery_time_days     -0.333606     -0.292204  \n",
              "is_delayed             -0.364475     -0.320211  \n",
              "delayed_nb_days        -0.263219     -0.225359  \n",
              "review_score            1.000000      0.895518  \n",
              "is_satisfied            0.895518      1.000000  "
            ]
          },
          "execution_count": 77,
          "metadata": {},
          "output_type": "execute_result"
        }
      ],
      "source": [
        "df_merged[['delivery_time_days', 'is_delayed', 'delayed_nb_days','review_score','is_satisfied']].corr()"
      ]
    },
    {
      "cell_type": "markdown",
      "metadata": {
        "id": "YVjuYmqO_4Vx"
      },
      "source": [
        "There is **a negative correlaion** - Higher delivery time leads to the lower review score\n",
        "\n"
      ]
    },
    {
      "cell_type": "markdown",
      "metadata": {
        "id": "C4mWPkj9L9tf"
      },
      "source": [
        "# General conclusions"
      ]
    },
    {
      "cell_type": "markdown",
      "metadata": {
        "id": "ANB_TUz5MNzR"
      },
      "source": [
        "\n",
        "\n",
        "*   There is a relationship between being unsatisfied and delayed orders\n",
        "*   There is a difference between the average price of delayed and on-time orders\n",
        "* Higher delivery time leads to the lower review score\n",
        "\n",
        "\n",
        "\n",
        "\n",
        "\n",
        "\n",
        "\n"
      ]
    }
  ],
  "metadata": {
    "colab": {
      "provenance": [],
      "toc_visible": true
    },
    "kernelspec": {
      "display_name": "Python 3",
      "name": "python3"
    },
    "language_info": {
      "codemirror_mode": {
        "name": "ipython",
        "version": 3
      },
      "file_extension": ".py",
      "mimetype": "text/x-python",
      "name": "python",
      "nbconvert_exporter": "python",
      "pygments_lexer": "ipython3",
      "version": "3.11.9"
    }
  },
  "nbformat": 4,
  "nbformat_minor": 0
}
